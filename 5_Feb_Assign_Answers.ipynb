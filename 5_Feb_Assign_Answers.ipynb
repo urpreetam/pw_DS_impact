{
 "cells": [
  {
   "cell_type": "markdown",
   "id": "4c4b3938",
   "metadata": {},
   "source": [
    "### Q1. Explain Class and Object with respect to Object-Oriented Programming. Give a suitable example."
   ]
  },
  {
   "cell_type": "markdown",
   "id": "a3a761a6",
   "metadata": {},
   "source": [
    "A class is a user-defined blueprint or prototype from which objects are created. Classes provide a means of bundling data and functionality together. A class simply is any real world entitiy which can describe any real functionality.The class creates a user-defined data structure, which holds its own data members and member functions, which can be accessed and used by creating an instance of that class.\n",
    "\n",
    "An object is the instance of a particular class. While a class is the blue print the object is the real entity of that blue print. When an object of a class is created, the class is said to be instantiated. All the instances share the attributes and the behavior of the class. But the values of those attributes, i.e. the state are unique for each object. A single class may have any number of instances."
   ]
  },
  {
   "cell_type": "code",
   "execution_count": 5,
   "id": "884b9fdf",
   "metadata": {},
   "outputs": [
    {
     "name": "stdout",
     "output_type": "stream",
     "text": [
      "My name is Aman and I am 14 years old. My roll number is 104.\n"
     ]
    }
   ],
   "source": [
    "class Students:\n",
    "    def __init__(this, name, age, roll_num):\n",
    "        this.name = name\n",
    "        this.age = age\n",
    "        this.roll_num = roll_num\n",
    "    \n",
    "    def tell_about_yourself(this):\n",
    "        print(f\"My name is {this.name} and I am {this.age} years old. My roll number is {this.roll_num}.\")\n",
    "\n",
    "        \n",
    "Aman = Students(\"Aman\", 14, 104)\n",
    "Aman.tell_about_yourself()"
   ]
  },
  {
   "cell_type": "markdown",
   "id": "0619651d",
   "metadata": {},
   "source": [
    "### Q2. Name the four pillars of OOPs."
   ]
  },
  {
   "cell_type": "markdown",
   "id": "03d4f89f",
   "metadata": {},
   "source": [
    "Encapsulation: Encapsulation refers to the hiding of data (attributes) and methods (behavior) within a class. It allows the class to control access to its internal state, protecting it from unauthorized modifications. Encapsulation helps in achieving data hiding and abstraction.\n",
    "\n",
    "Inheritance: Inheritance is a mechanism that allows a class to inherit properties and behaviors from another class. The class that is being inherited from is called the superclass or base class, and the class that inherits is called the subclass or derived class or child class. Inheritance promotes code reusability and allows the creation of a hierarchical relationship between classes.\n",
    "\n",
    "Polymorphism: Polymorphism means the ability of an object to take on different forms or respond in different ways depending on the context. It allows objects of different classes to be treated as objects of a common superclass. Polymorphism is typically achieved through method overriding and method overloading.\n",
    "\n",
    "Abstraction: Abstraction refers to the process of simplifying complex systems by representing only the essential details while hiding unnecessary complexity. It involves creating abstract classes or interfaces that define a common interface for a group of related objects. Abstraction allows programmers to focus on high-level concepts and interactions without getting into the specifics of implementation."
   ]
  },
  {
   "cell_type": "markdown",
   "id": "273d30c4",
   "metadata": {},
   "source": [
    "### Q3. Explain why the __init__() function is used. Give a suitable example."
   ]
  },
  {
   "cell_type": "markdown",
   "id": "a34860b1",
   "metadata": {},
   "source": [
    "The __init__() function is a special method in Python classes that is automatically called when an object is created from the class. It is a constructor of that class which can be user defined. It is used to initialize the attributes of the object and perform any other necessary setup or operations.\n",
    "\n",
    "The primary purpose of the __init__() function is to ensure that the object is properly initialized with the required attributes and their initial values. It allows you to define and assign values to the object's attributes when it is created, ensuring that the object is in a valid state from the beginning."
   ]
  },
  {
   "cell_type": "code",
   "execution_count": 8,
   "id": "0792d477",
   "metadata": {},
   "outputs": [
    {
     "name": "stdout",
     "output_type": "stream",
     "text": [
      "This is a brand new Toyota model red car.\n"
     ]
    }
   ],
   "source": [
    "class Cars:\n",
    "    def __init__(this,color,name):\n",
    "        this.name = name\n",
    "        this.color = color\n",
    "        \n",
    "    def name_the_car(this):\n",
    "        print(f\"This is a brand new {this.name} model {this.color} car.\")\n",
    "        \n",
    "sedan = Cars('red','Toyota')\n",
    "sedan.name_the_car()"
   ]
  },
  {
   "cell_type": "markdown",
   "id": "f20d650a",
   "metadata": {},
   "source": [
    "### Q4. Why self is used in OOPs?"
   ]
  },
  {
   "cell_type": "markdown",
   "id": "0bdf062d",
   "metadata": {},
   "source": [
    "In object-oriented programming (OOP), self is a conventional name used to refer to the instance of a class within the class methods. We can use any other name too. It acts as a reference to the object itself, allowing you to access its attributes and methods.\n",
    "\n",
    "When you define a method within a class, you need to explicitly include self as the first parameter of the method definition. This parameter is automatically passed when the method is called on an instance of the class.\n",
    "\n",
    "The self parameter allows you to access and manipulate the instance's attributes and call its methods within the class. It enables you to differentiate between the instance's attributes and local variables within the method."
   ]
  },
  {
   "cell_type": "markdown",
   "id": "5c236afd",
   "metadata": {},
   "source": [
    "### Q5. What is inheritance? Give an example for each type of inheritance."
   ]
  },
  {
   "cell_type": "markdown",
   "id": "78ebda0d",
   "metadata": {},
   "source": [
    "Inheritance is a fundamental concept in object-oriented programming (OOP) that allows a class to inherit attributes and methods from another class. The class that is being inherited from is called the superclass or base class, and the class that inherits from it is called the subclass or derived class. Inheritance promotes code reusability, as the subclass can access and extend the functionality of the superclass without having to redefine it."
   ]
  },
  {
   "cell_type": "code",
   "execution_count": 9,
   "id": "53c37230",
   "metadata": {},
   "outputs": [],
   "source": [
    "# single inheritance\n",
    "class Humans:\n",
    "    def __init__(this, name):\n",
    "        this.name = name\n",
    "        \n",
    "class Males(Humans):\n",
    "    def __init__(this,name,gender):\n",
    "        super.__init__(name)\n",
    "        this.gender = gender\n",
    "        "
   ]
  },
  {
   "cell_type": "code",
   "execution_count": 11,
   "id": "f517c9bf",
   "metadata": {},
   "outputs": [],
   "source": [
    "## Multiple inheritance\n",
    "class Reptiles:\n",
    "    def walk(this):\n",
    "        print(\"Reptiles creeps\")\n",
    "        \n",
    "class Mamals:\n",
    "    def walk(this):\n",
    "        print(\"Mamals walk\")\n",
    "        \n",
    "class Aliens(Reptiles, Mamals):\n",
    "    def walk(this):\n",
    "        print(\"Aliens breath\")"
   ]
  },
  {
   "cell_type": "code",
   "execution_count": 12,
   "id": "dc08c4ae",
   "metadata": {},
   "outputs": [],
   "source": [
    "### Multilevel inheritance\n",
    "class Vheichle:\n",
    "    def tyres(self):\n",
    "        print(\"have tyres\")\n",
    "        \n",
    "class Truck(Vheichle):\n",
    "    def tyres(self):\n",
    "        print(\"have 10 tyres\")\n",
    "        \n",
    "class Car(Truck):\n",
    "    def tyres(self):\n",
    "        print(\"have 4 tyres\")"
   ]
  },
  {
   "cell_type": "code",
   "execution_count": 13,
   "id": "b2a3440c",
   "metadata": {},
   "outputs": [],
   "source": [
    "#### Hierarchical inheritance\n",
    "class Animal:\n",
    "    def sound(self):\n",
    "        print(\"Animal makes a sound.\")\n",
    "\n",
    "class Dog(Animal):\n",
    "    def sound(self):\n",
    "        print(\"Dog barks.\")\n",
    "\n",
    "class Cat(Animal):\n",
    "    def sound(self):\n",
    "        print(\"Cat meows.\")\n"
   ]
  },
  {
   "cell_type": "code",
   "execution_count": 15,
   "id": "73c2aa65",
   "metadata": {},
   "outputs": [],
   "source": [
    "##### Hybrid inheritance\n",
    "class Aeroplane:\n",
    "    def move(this):\n",
    "        print(\"Aeroplane flies\")\n",
    "\n",
    "class Bike:\n",
    "    def move(this):\n",
    "        print(\"Bikes forwards\")\n",
    "        \n",
    "class Flyingmotos(Aeroplane, Bike):\n",
    "    def move(this):\n",
    "        print(\"Flmots flies and moves\")"
   ]
  }
 ],
 "metadata": {
  "kernelspec": {
   "display_name": "Python 3 (ipykernel)",
   "language": "python",
   "name": "python3"
  },
  "language_info": {
   "codemirror_mode": {
    "name": "ipython",
    "version": 3
   },
   "file_extension": ".py",
   "mimetype": "text/x-python",
   "name": "python",
   "nbconvert_exporter": "python",
   "pygments_lexer": "ipython3",
   "version": "3.10.9"
  }
 },
 "nbformat": 4,
 "nbformat_minor": 5
}
