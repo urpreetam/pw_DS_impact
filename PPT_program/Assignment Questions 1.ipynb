{
 "cells": [
  {
   "cell_type": "markdown",
   "id": "58b577dd",
   "metadata": {},
   "source": [
    "## Q1."
   ]
  },
  {
   "cell_type": "code",
   "execution_count": 4,
   "id": "00023218",
   "metadata": {},
   "outputs": [
    {
     "name": "stdout",
     "output_type": "stream",
     "text": [
      "Enter the numbers array separated by space 1 2 5 3 6 19 23 10\n",
      "Enter the target 29\n",
      "(4, 6)\n"
     ]
    }
   ],
   "source": [
    "def findPair(arr, target):\n",
    "    complements = {}\n",
    "    \n",
    "    for i, num in enumerate(arr):\n",
    "        if num in complements:\n",
    "            return complements[num],i\n",
    "        complement = target - num\n",
    "        complements[complement] = i\n",
    "        \n",
    "nums = input(\"Enter the numbers array separated by space: \")\n",
    "nums = list(map(int, nums.split()))\n",
    "target = int(input(\"Enter the target: \"))\n",
    "\n",
    "print(findPair(nums,target))\n"
   ]
  },
  {
   "cell_type": "markdown",
   "id": "22199461",
   "metadata": {},
   "source": [
    "## Q2."
   ]
  },
  {
   "cell_type": "code",
   "execution_count": 6,
   "id": "91df7757",
   "metadata": {},
   "outputs": [
    {
     "name": "stdout",
     "output_type": "stream",
     "text": [
      "Enter the numbers array separated by space 3 2 2 3\n",
      "Enter the target 3\n",
      "2\n"
     ]
    }
   ],
   "source": [
    "def removeElement(nums, val):\n",
    "    i = 0\n",
    "    j = 0\n",
    "    \n",
    "    while j < len(nums):\n",
    "        if nums[j] != val:\n",
    "            nums[i] = nums[j]\n",
    "            i += 1\n",
    "            j += 1\n",
    "        else:\n",
    "            j += 1\n",
    "    return i\n",
    "\n",
    "\n",
    "nums = input(\"Enter the numbers array separated by space: \")\n",
    "nums = list(map(int, nums.split()))\n",
    "target = int(input(\"Enter the target: \"))\n",
    "\n",
    "print(removeElement(nums, target))"
   ]
  },
  {
   "cell_type": "markdown",
   "id": "864bf52c",
   "metadata": {},
   "source": [
    "## Q3."
   ]
  },
  {
   "cell_type": "code",
   "execution_count": 7,
   "id": "2ba9ee13",
   "metadata": {},
   "outputs": [
    {
     "name": "stdout",
     "output_type": "stream",
     "text": [
      "Enter the numbers array separated by space 1 2 4 5 6\n",
      "Enter the target 5\n",
      "3\n"
     ]
    }
   ],
   "source": [
    "def binarySearch(nums, target):\n",
    "    left = 0\n",
    "    right = len(nums) - 1\n",
    "    \n",
    "    while left <= right:\n",
    "        mid = (left + right) // 2\n",
    "        \n",
    "        if nums[mid] == target:\n",
    "            return mid\n",
    "        if nums[mid] < target:\n",
    "            left = mid + 1\n",
    "        else:\n",
    "            right = mid - 1\n",
    "            \n",
    "    return left\n",
    "\n",
    "\n",
    "nums = input(\"Enter the numbers array separated by space: \")\n",
    "nums = list(map(int, nums.split()))\n",
    "target = int(input(\"Enter the target: \"))\n",
    "\n",
    "print(binarySearch(nums, target))"
   ]
  },
  {
   "cell_type": "markdown",
   "id": "f2dfccf8",
   "metadata": {},
   "source": [
    "## Q4."
   ]
  },
  {
   "cell_type": "code",
   "execution_count": 9,
   "id": "a5001a2c",
   "metadata": {},
   "outputs": [
    {
     "name": "stdout",
     "output_type": "stream",
     "text": [
      "Enter the numbers array separated by space:  1 9 9 9\n",
      "[2, 0, 0, 0]\n"
     ]
    }
   ],
   "source": [
    "def increment(digits):\n",
    "    n = len(digits)\n",
    "    \n",
    "    for i in range(n - 1, -1, -1):\n",
    "        digits[i] += 1        \n",
    "        if digits[i] < 10:\n",
    "            break\n",
    "        else:\n",
    "            digits[i] = 0    \n",
    "    if digits[0] == 0:\n",
    "        digits.insert(0, 1)\n",
    "    \n",
    "    return digits\n",
    "\n",
    "nums = input(\"Enter the numbers array separated by space: \")\n",
    "nums = list(map(int, nums.split()))\n",
    "\n",
    "print(increment(nums))"
   ]
  },
  {
   "cell_type": "markdown",
   "id": "ad2ae938",
   "metadata": {},
   "source": [
    "## Q5."
   ]
  },
  {
   "cell_type": "code",
   "execution_count": 13,
   "id": "4360d431",
   "metadata": {},
   "outputs": [
    {
     "name": "stdout",
     "output_type": "stream",
     "text": [
      "Enter the numbers of 1st array separated by space: 1 2 3 0 0 0 \n",
      "Length of the 1st array3\n",
      "Enter the numbers of 2nd array separated by space: 2 5 6\n",
      "[1, 2, 2, 3, 5, 6]\n"
     ]
    }
   ],
   "source": [
    "def merge(nums1, m, nums2, n):\n",
    "    p1 = m - 1\n",
    "    p2 = n - 1\n",
    "    p = m + n - 1\n",
    "    \n",
    "    while p1 >= 0 and p2 >= 0:\n",
    "        if nums1[p1] > nums2[p2]:\n",
    "            nums1[p] = nums1[p1]\n",
    "            p1 -= 1\n",
    "        else:\n",
    "            nums1[p] = nums2[p2]\n",
    "            p2 -= 1\n",
    "        p -= 1\n",
    "        \n",
    "    while p2 >= 0:\n",
    "        nums1[p] = nums2[p2]\n",
    "        p2 -= 1\n",
    "        p -= 1\n",
    "\n",
    "nums = input(\"Enter the numbers of 1st array separated by space: \")\n",
    "nums = list(map(int, nums.split()))\n",
    "numlen = int(input(\"Length of the 1st array: \"))\n",
    "dums = input(\"Enter the numbers of 2nd array separated by space: \")\n",
    "dums = list(map(int, dums.split()))\n",
    "merge(nums,numlen,dums,len(dums))\n",
    "\n",
    "print(nums)"
   ]
  },
  {
   "cell_type": "markdown",
   "id": "7fd7b9b8",
   "metadata": {},
   "source": [
    "## Q6."
   ]
  },
  {
   "cell_type": "code",
   "execution_count": 18,
   "id": "2037e959",
   "metadata": {},
   "outputs": [
    {
     "name": "stdout",
     "output_type": "stream",
     "text": [
      "Enter the numbers array separated by space: 1 2 3 1\n",
      "True\n"
     ]
    }
   ],
   "source": [
    "def containsDuplicate(nums):\n",
    "    num_set = set()\n",
    "\n",
    "    for num in nums:\n",
    "        if num in num_set:\n",
    "            return True\n",
    "        num_set.add(num)\n",
    "\n",
    "    return False\n",
    "\n",
    "nums = input(\"Enter the numbers array separated by space: \")\n",
    "nums = list(map(int, nums.split()))\n",
    "\n",
    "print(containsDuplicate(nums))"
   ]
  },
  {
   "cell_type": "markdown",
   "id": "4797a69e",
   "metadata": {},
   "source": [
    "## Q7."
   ]
  },
  {
   "cell_type": "code",
   "execution_count": 16,
   "id": "66d70064",
   "metadata": {},
   "outputs": [
    {
     "name": "stdout",
     "output_type": "stream",
     "text": [
      "Enter the numbers array separated by space: 1 0 0 3 12\n",
      "[1, 3, 12, 0, 0]\n"
     ]
    }
   ],
   "source": [
    "def moveZeroes(nums):\n",
    "    n = len(nums)\n",
    "    left = 0\n",
    "    \n",
    "    for right in range(n):\n",
    "        if nums[right] != 0:\n",
    "            nums[left] = nums[right]\n",
    "            left += 1\n",
    "\n",
    "    while left < n:\n",
    "        nums[left] = 0\n",
    "        left += 1\n",
    "\n",
    "nums = input(\"Enter the numbers array separated by space: \")\n",
    "nums = list(map(int, nums.split()))\n",
    "\n",
    "moveZeroes(nums)\n",
    "print(nums)"
   ]
  },
  {
   "cell_type": "markdown",
   "id": "9b8740f4",
   "metadata": {},
   "source": [
    "## Q8."
   ]
  },
  {
   "cell_type": "code",
   "execution_count": 20,
   "id": "842910c3",
   "metadata": {},
   "outputs": [
    {
     "name": "stdout",
     "output_type": "stream",
     "text": [
      "Enter the numbers array separated by space: 1 2 3 3 4\n",
      "[3, 5]\n"
     ]
    }
   ],
   "source": [
    "def findErrorNums(nums):\n",
    "    n = len(nums)\n",
    "    num_set = set()\n",
    "    duplicate = -1\n",
    "    missing = -1\n",
    "\n",
    "    for num in nums:\n",
    "        if num in num_set:\n",
    "            duplicate = num\n",
    "        else:\n",
    "            num_set.add(num)\n",
    "\n",
    "    for i in range(1, n+1):\n",
    "        if i not in num_set:\n",
    "            missing = i\n",
    "            break\n",
    "\n",
    "    return [duplicate, missing]\n",
    "\n",
    "nums = input(\"Enter the numbers array separated by space: \")\n",
    "nums = list(map(int, nums.split()))\n",
    "\n",
    "print(findErrorNums(nums))"
   ]
  },
  {
   "cell_type": "code",
   "execution_count": null,
   "id": "0a9b74d6",
   "metadata": {},
   "outputs": [],
   "source": []
  }
 ],
 "metadata": {
  "kernelspec": {
   "display_name": "Python 3 (ipykernel)",
   "language": "python",
   "name": "python3"
  },
  "language_info": {
   "codemirror_mode": {
    "name": "ipython",
    "version": 3
   },
   "file_extension": ".py",
   "mimetype": "text/x-python",
   "name": "python",
   "nbconvert_exporter": "python",
   "pygments_lexer": "ipython3",
   "version": "3.10.9"
  }
 },
 "nbformat": 4,
 "nbformat_minor": 5
}
