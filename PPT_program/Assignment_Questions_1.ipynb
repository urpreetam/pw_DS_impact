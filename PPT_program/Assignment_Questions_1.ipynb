## Q1.

def findPair(arr, target):
    complements = {}
    
    for i, num in enumerate(arr):
        if num in complements:
            return complements[num],i
        complement = target - num
        complements[complement] = i
        
nums = input("Enter the numbers array separated by space: ")
nums = list(map(int, nums.split()))
target = int(input("Enter the target: "))

print(findPair(nums,target))


## Q2.

def removeElement(nums, val):
    i = 0
    j = 0
    
    while j < len(nums):
        if nums[j] != val:
            nums[i] = nums[j]
            i += 1
            j += 1
        else:
            j += 1
    return i


nums = input("Enter the numbers array separated by space: ")
nums = list(map(int, nums.split()))
target = int(input("Enter the target: "))

print(removeElement(nums, target))

## Q3.

def binarySearch(nums, target):
    left = 0
    right = len(nums) - 1
    
    while left <= right:
        mid = (left + right) // 2
        
        if nums[mid] == target:
            return mid
        if nums[mid] < target:
            left = mid + 1
        else:
            right = mid - 1
            
    return left


nums = input("Enter the numbers array separated by space: ")
nums = list(map(int, nums.split()))
target = int(input("Enter the target: "))

print(binarySearch(nums, target))

## Q4.

def increment(digits):
    n = len(digits)
    
    for i in range(n - 1, -1, -1):
        digits[i] += 1        
        if digits[i] < 10:
            break
        else:
            digits[i] = 0    
    if digits[0] == 0:
        digits.insert(0, 1)
    
    return digits

nums = input("Enter the numbers array separated by space: ")
nums = list(map(int, nums.split()))

print(increment(nums))

## Q5.

def merge(nums1, m, nums2, n):
    p1 = m - 1
    p2 = n - 1
    p = m + n - 1
    
    while p1 >= 0 and p2 >= 0:
        if nums1[p1] > nums2[p2]:
            nums1[p] = nums1[p1]
            p1 -= 1
        else:
            nums1[p] = nums2[p2]
            p2 -= 1
        p -= 1
        
    while p2 >= 0:
        nums1[p] = nums2[p2]
        p2 -= 1
        p -= 1

nums = input("Enter the numbers of 1st array separated by space: ")
nums = list(map(int, nums.split()))
numlen = int(input("Length of the 1st array: "))
dums = input("Enter the numbers of 2nd array separated by space: ")
dums = list(map(int, dums.split()))
merge(nums,numlen,dums,len(dums))

print(nums)

## Q6.

def containsDuplicate(nums):
    num_set = set()

    for num in nums:
        if num in num_set:
            return True
        num_set.add(num)

    return False

nums = input("Enter the numbers array separated by space: ")
nums = list(map(int, nums.split()))

print(containsDuplicate(nums))

## Q7.

def moveZeroes(nums):
    n = len(nums)
    left = 0
    
    for right in range(n):
        if nums[right] != 0:
            nums[left] = nums[right]
            left += 1

    while left < n:
        nums[left] = 0
        left += 1

nums = input("Enter the numbers array separated by space: ")
nums = list(map(int, nums.split()))

moveZeroes(nums)
print(nums)

## Q8.

def findErrorNums(nums):
    n = len(nums)
    num_set = set()
    duplicate = -1
    missing = -1

    for num in nums:
        if num in num_set:
            duplicate = num
        else:
            num_set.add(num)

    for i in range(1, n+1):
        if i not in num_set:
            missing = i
            break

    return [duplicate, missing]

nums = input("Enter the numbers array separated by space: ")
nums = list(map(int, nums.split()))

print(findErrorNums(nums))

