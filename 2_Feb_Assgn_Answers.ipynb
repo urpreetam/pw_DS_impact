{
 "cells": [
  {
   "cell_type": "markdown",
   "id": "9cbb52b6",
   "metadata": {},
   "source": [
    "### Q1. What are the characteristics of the tuples? Is tuple immutable?"
   ]
  },
  {
   "cell_type": "markdown",
   "id": "bf76b04c",
   "metadata": {},
   "source": [
    "i. To create a tupple we use () paranthases.\n",
    "ii. Tupples can contain multiple data types.\n",
    "iii. We can access the values of the tupples by the indexes using [] braces.\n",
    "iv. Concatination can be done of different tupples.\n",
    "v. Repetition of the elements in the tupple can be done using multiplication.\n",
    "vi. Slicing and deletio of the tupple elements can be done.\n",
    "vii. Conversion of lists from tupple and vice versa can be done.\n",
    "\n",
    "Tupple is immutable. We can not reassign any value of the tupple at any index."
   ]
  },
  {
   "cell_type": "markdown",
   "id": "f74f7ced",
   "metadata": {},
   "source": [
    "### Q2. What are the two tuple methods in python? Give an example of each method. Give a reason why tuples have only two in-built methods as compared to Lists."
   ]
  },
  {
   "cell_type": "markdown",
   "id": "6a22dd87",
   "metadata": {},
   "source": [
    "The two tupple methods in python are count() method and index() method.\n",
    "Count() method is used for counting the no. of occurence of the element while the index() method is used for returning the first occurence of the element."
   ]
  },
  {
   "cell_type": "code",
   "execution_count": 5,
   "id": "3505e670",
   "metadata": {},
   "outputs": [
    {
     "name": "stdout",
     "output_type": "stream",
     "text": [
      "5\n",
      "1\n",
      "7\n"
     ]
    }
   ],
   "source": [
    "tup = (1,2,3,4,5,5,3,2,3,3,3)\n",
    "print(tup.count(3))\n",
    "print(tup.index(2))#index of first occurence of 2\n",
    "print(tup.index(2,2))#index of 2 after 2nd index"
   ]
  },
  {
   "cell_type": "markdown",
   "id": "05481986",
   "metadata": {},
   "source": [
    "### Q3. Which collection datatypes in python do not allow duplicate items? Write a code using a set to remove duplicates from the given list. List = [1, 1, 1, 2, 1, 3, 1, 4, 2, 1, 2, 2, 2, 3, 2, 4, 3, 1, 3, 2, 3, 3, 3, 4, 4, 1, 4, 2, 4, 3, 4, 4]"
   ]
  },
  {
   "cell_type": "code",
   "execution_count": 9,
   "id": "50c34920",
   "metadata": {},
   "outputs": [
    {
     "name": "stdout",
     "output_type": "stream",
     "text": [
      "{1, 2, 3, 4}\n"
     ]
    }
   ],
   "source": [
    "#Set datatype do not allow duplicate items. \n",
    "List = [1, 1, 1, 2, 1, 3, 1, 4, 2, 1, 2, 2, 2, 3, 2, 4, 3, 1, 3, 2, 3, 3, 3, 4, 4, 1, 4, 2, 4, 3, 4, 4]\n",
    "clearedList = set(List)\n",
    "print(clearedList)"
   ]
  },
  {
   "cell_type": "markdown",
   "id": "4ac8a773",
   "metadata": {},
   "source": [
    "### Q4. Explain the difference between the union() and update() methods for a set. Give an example of each method."
   ]
  },
  {
   "cell_type": "markdown",
   "id": "091154d4",
   "metadata": {},
   "source": [
    "Union method for a set is done to make a union of two sets and return the united set. But the sets individually not updated. While update() method updates the set with a new value."
   ]
  },
  {
   "cell_type": "code",
   "execution_count": 13,
   "id": "5abd64d5",
   "metadata": {},
   "outputs": [
    {
     "name": "stdout",
     "output_type": "stream",
     "text": [
      "{1, 2, 3, 4, 5, 6, 7, 8}\n",
      "{1, 2, 3, 4, 5}\n",
      "{4, 5, 6, 7, 8}\n",
      "{1, 2, 3, 4, 5, 8, 9}\n"
     ]
    }
   ],
   "source": [
    "setA = {1, 2, 3, 4, 5}\n",
    "setB = {4, 5, 6, 7, 8}\n",
    "print(setA.union(setB))\n",
    "print(setA)#The set remains as it is\n",
    "print(setB)#nothing changed\n",
    "setA.update({8,9})\n",
    "print(setA) #changed after updation of the set"
   ]
  },
  {
   "cell_type": "markdown",
   "id": "955541de",
   "metadata": {},
   "source": [
    "### Q5. What is a dictionary? Give an example. Also, state whether a dictionary is ordered or unordered."
   ]
  },
  {
   "cell_type": "markdown",
   "id": "d4497afe",
   "metadata": {},
   "source": [
    "A python dictionary is a collection of key-value pairs that are used to store data values like a map. Dictionary is ordered and remembers the way in which the elements are added."
   ]
  },
  {
   "cell_type": "code",
   "execution_count": 15,
   "id": "a12f895f",
   "metadata": {},
   "outputs": [
    {
     "data": {
      "text/plain": [
       "{1: 'a', 2: 'b', 3: 'c', 4: 'd'}"
      ]
     },
     "execution_count": 15,
     "metadata": {},
     "output_type": "execute_result"
    }
   ],
   "source": [
    "dictionary = {1:'a', 2:'b', 3:'c', 4:'d'}\n",
    "dictionary"
   ]
  },
  {
   "cell_type": "markdown",
   "id": "d63b4f75",
   "metadata": {},
   "source": [
    "### Q6. Can we create a nested dictionary? If so, please give an example by creating a simple one-level nested dictionary."
   ]
  },
  {
   "cell_type": "code",
   "execution_count": 16,
   "id": "a47d5105",
   "metadata": {},
   "outputs": [
    {
     "data": {
      "text/plain": [
       "{1: {1.1: 'a.a', 1.2: 'a.b', 1.3: 'a.c'},\n",
       " 2: {2.1: 'b.a', 2.2: 'b.b'},\n",
       " 3: {3.1: 'c.a'}}"
      ]
     },
     "execution_count": 16,
     "metadata": {},
     "output_type": "execute_result"
    }
   ],
   "source": [
    "#Yes we can create a nested dictionary by giving another dictionary as a value in the first.\n",
    "#Example\n",
    "dictionary = {1:{1.1:'a.a', 1.2:'a.b', 1.3: 'a.c'}, 2:{2.1:'b.a', 2.2:'b.b'}, 3:{3.1:'c.a'}}\n",
    "dictionary"
   ]
  },
  {
   "cell_type": "markdown",
   "id": "46e1a6d5",
   "metadata": {},
   "source": [
    "### Q7. Using setdefault() method, create key named topics in the given dictionary and also add the value of the key as this list ['Python', 'Machine Learning’, 'Deep Learning']"
   ]
  },
  {
   "cell_type": "code",
   "execution_count": 22,
   "id": "66f07508",
   "metadata": {},
   "outputs": [
    {
     "data": {
      "text/plain": [
       "{'language': 'Python',\n",
       " 'course': 'Data Science Masters',\n",
       " 'topic': ['Python', 'Machine Learning', 'Deep Learning']}"
      ]
     },
     "execution_count": 22,
     "metadata": {},
     "output_type": "execute_result"
    }
   ],
   "source": [
    "dict1 = {'language' : 'Python', 'course': 'Data Science Masters'}\n",
    "dict1.setdefault('topic')\n",
    "dict1['topic'] = ['Python', 'Machine Learning', 'Deep Learning']\n",
    "dict1"
   ]
  },
  {
   "cell_type": "markdown",
   "id": "61462a83",
   "metadata": {},
   "source": [
    "### Q8. What are the three view objects in dictionaries? Use the three in-built methods in python to display these three view objects for the given dictionary. dict1 = {'Sport': 'Cricket' , 'Teams': ['India', 'Australia', 'England', 'South Africa', 'Sri Lanka', 'New Zealand']}"
   ]
  },
  {
   "cell_type": "markdown",
   "id": "4dd50424",
   "metadata": {},
   "source": [
    "The three view objects are \n",
    "    i. dict_keys, obtained by calling the keys() function.\n",
    "    ii. dict_values, obtained by calling the values() function.\n",
    "    iii. dict_items, by calling the items() method."
   ]
  },
  {
   "cell_type": "code",
   "execution_count": 23,
   "id": "1b3f0a67",
   "metadata": {},
   "outputs": [
    {
     "name": "stdout",
     "output_type": "stream",
     "text": [
      "dict_keys(['Sport', 'Teams'])\n",
      "dict_values(['Cricket', ['India', 'Australia', 'England', 'South Africa', 'Sri Lanka', 'New Zealand']])\n",
      "dict_items([('Sport', 'Cricket'), ('Teams', ['India', 'Australia', 'England', 'South Africa', 'Sri Lanka', 'New Zealand'])])\n"
     ]
    }
   ],
   "source": [
    "dict1 = {'Sport': 'Cricket' , 'Teams': ['India', 'Australia', 'England', 'South Africa', 'Sri Lanka', 'New Zealand']}\n",
    "print(dict1.keys())\n",
    "print(dict1.values())\n",
    "print(dict1.items())"
   ]
  },
  {
   "cell_type": "code",
   "execution_count": null,
   "id": "baeb1dda",
   "metadata": {},
   "outputs": [],
   "source": []
  }
 ],
 "metadata": {
  "kernelspec": {
   "display_name": "Python 3 (ipykernel)",
   "language": "python",
   "name": "python3"
  },
  "language_info": {
   "codemirror_mode": {
    "name": "ipython",
    "version": 3
   },
   "file_extension": ".py",
   "mimetype": "text/x-python",
   "name": "python",
   "nbconvert_exporter": "python",
   "pygments_lexer": "ipython3",
   "version": "3.9.13"
  }
 },
 "nbformat": 4,
 "nbformat_minor": 5
}
