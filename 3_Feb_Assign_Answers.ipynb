{
 "cells": [
  {
   "cell_type": "markdown",
   "id": "cf2db640",
   "metadata": {},
   "source": [
    "###  Q1. Which keyword is used to create a function? Create a function to return a list of odd numbers in the range of 1 to 25."
   ]
  },
  {
   "cell_type": "markdown",
   "id": "e8973e45",
   "metadata": {},
   "source": [
    "'def' keyword is used to create a function."
   ]
  },
  {
   "cell_type": "code",
   "execution_count": 2,
   "id": "cad633cc",
   "metadata": {},
   "outputs": [
    {
     "data": {
      "text/plain": [
       "[1, 3, 5, 7, 9, 11, 13, 15, 17, 19, 21, 23, 25]"
      ]
     },
     "execution_count": 2,
     "metadata": {},
     "output_type": "execute_result"
    }
   ],
   "source": [
    "def printnums(num):\n",
    "    l = []\n",
    "    for i in range(1,num+1,2):\n",
    "        l.append(i)\n",
    "    return l\n",
    "printnums(25)"
   ]
  },
  {
   "cell_type": "markdown",
   "id": "610d97c2",
   "metadata": {},
   "source": [
    "### Q2. Why *args and **kwargs is used in some functions? Create a function each for *args and **kwargs to demonstrate their use."
   ]
  },
  {
   "cell_type": "markdown",
   "id": "a3080f46",
   "metadata": {},
   "source": [
    "These keywords are used to pass unspecified number of arguments in a functions parameters. 'args' are used to pass any number of non-keywords type arguments, while 'kwargs' is used to pass a key-value pair or pass a keyword type argument in the function.  "
   ]
  },
  {
   "cell_type": "code",
   "execution_count": 4,
   "id": "9fe0e06a",
   "metadata": {},
   "outputs": [
    {
     "name": "stdout",
     "output_type": "stream",
     "text": [
      "101\n"
     ]
    }
   ],
   "source": [
    "def my_sum(*args):\n",
    "    return sum(args)\n",
    "\n",
    "print(my_sum(1, 99, 1)) # Output: 101\n"
   ]
  },
  {
   "cell_type": "code",
   "execution_count": 8,
   "id": "8a7ee4bc",
   "metadata": {},
   "outputs": [
    {
     "name": "stdout",
     "output_type": "stream",
     "text": [
      "first = Hello\n",
      "mid = Welcome\n",
      "last = to Python\n"
     ]
    }
   ],
   "source": [
    "def my_function(**kwargs):\n",
    "    for key, value in kwargs.items():\n",
    "        print(f\"{key} = {value}\")\n",
    "\n",
    "my_function(first='Hello', mid='Welcome', last='to Python')"
   ]
  },
  {
   "cell_type": "markdown",
   "id": "a0030058",
   "metadata": {},
   "source": [
    "### Q3. What is an iterator in python? Name the method used to initialise the iterator object and the method used for iteration. Use these methods to print the first five elements of the given list [2, 4, 6, 8, 10, 12, 14, 16, 18, 20]."
   ]
  },
  {
   "cell_type": "markdown",
   "id": "6d1ada6c",
   "metadata": {},
   "source": [
    "An iterator in Python is an object that is used to iterate over iterable objects like lists, tuples, dicts, and sets. The Python iterators object is initialized using the iter() method. It uses the next() method for iteration."
   ]
  },
  {
   "cell_type": "code",
   "execution_count": 2,
   "id": "b61a9bc0",
   "metadata": {},
   "outputs": [
    {
     "name": "stdout",
     "output_type": "stream",
     "text": [
      "2\n",
      "4\n",
      "6\n",
      "8\n",
      "10\n"
     ]
    }
   ],
   "source": [
    "l = [2, 4, 6, 8, 10, 12, 14, 16, 18, 20]\n",
    "iterator = iter(l)\n",
    "print(next(iterator))\n",
    "print(next(iterator))\n",
    "print(next(iterator))\n",
    "print(next(iterator))\n",
    "print(next(iterator))"
   ]
  },
  {
   "cell_type": "markdown",
   "id": "ff8e8ecc",
   "metadata": {},
   "source": [
    "### Q4. What is a generator function in python? Why yield keyword is used? Give an example of a generator function."
   ]
  },
  {
   "cell_type": "markdown",
   "id": "317ad9f7",
   "metadata": {},
   "source": [
    "A generator function in python is a normal function but instead of return statement, it has a yield statement. If a body of a function contains yield keyword, it automatically turns to an yield function. It does not return anything also it does not stores anything. It keeps on generating the values with each iteration and generates the value with each iteration. "
   ]
  },
  {
   "cell_type": "code",
   "execution_count": 8,
   "id": "7bd1387d",
   "metadata": {},
   "outputs": [
    {
     "data": {
      "text/plain": [
       "[0, 1, 1, 2, 3, 5, 8, 13, 21, 34]"
      ]
     },
     "execution_count": 8,
     "metadata": {},
     "output_type": "execute_result"
    }
   ],
   "source": [
    "def fibbo(n):\n",
    "    a ,b = 0,1\n",
    "    for i in range(0,n):\n",
    "        yield a\n",
    "        a,b = a + b, a\n",
    "list(fibbo(10))"
   ]
  },
  {
   "cell_type": "markdown",
   "id": "c420e21a",
   "metadata": {},
   "source": [
    "### Q5. Create a generator function for prime numbers less than 1000. Use the next() method to print the first 20 prime numbers."
   ]
  },
  {
   "cell_type": "code",
   "execution_count": 21,
   "id": "a0163f06",
   "metadata": {},
   "outputs": [
    {
     "name": "stdout",
     "output_type": "stream",
     "text": [
      "1\n",
      "3\n",
      "5\n",
      "7\n",
      "11\n",
      "13\n",
      "17\n",
      "19\n",
      "23\n",
      "29\n",
      "31\n",
      "37\n",
      "41\n",
      "43\n",
      "47\n",
      "53\n",
      "59\n",
      "61\n",
      "67\n",
      "71\n"
     ]
    }
   ],
   "source": [
    "def prime():\n",
    "    prime_less_than_sqrt_1000 = [2,3,5,7,9,11,13,17,19,23,29,31] \n",
    "    for i in range(1,1000,2):\n",
    "        flag = True\n",
    "        for j in prime_less_than_sqrt_1000:\n",
    "            if i == j:\n",
    "                continue\n",
    "            if i%j == 0:\n",
    "                flag = False\n",
    "                break\n",
    "        if(flag):\n",
    "            yield i\n",
    "\n",
    "primes_less_1000 = list(prime())\n",
    "iterator = iter(primes_less_1000)\n",
    "i = 0\n",
    "while(i != 20):\n",
    "    print(next(iterator))\n",
    "    i = i +1\n",
    "        \n",
    "        "
   ]
  }
 ],
 "metadata": {
  "kernelspec": {
   "display_name": "Python 3 (ipykernel)",
   "language": "python",
   "name": "python3"
  },
  "language_info": {
   "codemirror_mode": {
    "name": "ipython",
    "version": 3
   },
   "file_extension": ".py",
   "mimetype": "text/x-python",
   "name": "python",
   "nbconvert_exporter": "python",
   "pygments_lexer": "ipython3",
   "version": "3.10.9"
  }
 },
 "nbformat": 4,
 "nbformat_minor": 5
}
