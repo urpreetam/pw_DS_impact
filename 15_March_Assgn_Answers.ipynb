{
 "cells": [
  {
   "cell_type": "markdown",
   "id": "f5d87790",
   "metadata": {},
   "source": [
    "## 1.. a. ) Artificial Intelligence"
   ]
  },
  {
   "cell_type": "raw",
   "id": "99ca740f",
   "metadata": {},
   "source": [
    "Artificial Intelligence is the broad area of Machine Intelligence in Computer science. It focuses on developing applications which can perform automatic and intelligent tasks without any intervanation of humans.\n",
    "\n",
    "Examples: \n",
    "    i. Self driving cars.\n",
    "   ii. Personal assistants like siri, alexa and google assistant.\n",
    "  iii. Automated robots.\n",
    "   iv. AI image generating tools.\n",
    "    v. Stock market prediction applications.\n",
    " "
   ]
  },
  {
   "cell_type": "markdown",
   "id": "a711a7c1",
   "metadata": {},
   "source": [
    "## b. )Machine Learning"
   ]
  },
  {
   "cell_type": "markdown",
   "id": "69fb89a4",
   "metadata": {},
   "source": [
    "Machine learning is a sub set of AI that can learn from data, identify patterns and make decisions without human intervenation.\n",
    "This process contains a good set of data and training the ML models using various algorithms.\n",
    "\n",
    "Examples:\n",
    "    i. Recomendation system for various E-commerce and OTT platforms.\n",
    "   ii. Image recognition.\n",
    "  iii. Speech recognition.\n",
    "   iv. Ranking posts on social media\n",
    "    v. Virtual Personal Assistance\n",
    " "
   ]
  },
  {
   "cell_type": "markdown",
   "id": "422a894a",
   "metadata": {},
   "source": [
    "## c. ) Deep Learning"
   ]
  },
  {
   "cell_type": "code",
   "execution_count": null,
   "id": "c0bda3a9",
   "metadata": {},
   "outputs": [],
   "source": []
  }
 ],
 "metadata": {
  "kernelspec": {
   "display_name": "Python 3 (ipykernel)",
   "language": "python",
   "name": "python3"
  },
  "language_info": {
   "codemirror_mode": {
    "name": "ipython",
    "version": 3
   },
   "file_extension": ".py",
   "mimetype": "text/x-python",
   "name": "python",
   "nbconvert_exporter": "python",
   "pygments_lexer": "ipython3",
   "version": "3.9.13"
  }
 },
 "nbformat": 4,
 "nbformat_minor": 5
}
