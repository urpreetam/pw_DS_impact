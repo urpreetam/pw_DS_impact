{
 "cells": [
  {
   "cell_type": "code",
   "execution_count": 1,
   "id": "7dd55c6b",
   "metadata": {},
   "outputs": [],
   "source": [
    "import pandas as pd"
   ]
  },
  {
   "cell_type": "markdown",
   "id": "441deb13",
   "metadata": {},
   "source": [
    "### Q.1 ) Create a Pandas Series having data....."
   ]
  },
  {
   "cell_type": "code",
   "execution_count": 2,
   "id": "ccde1198",
   "metadata": {},
   "outputs": [
    {
     "name": "stdout",
     "output_type": "stream",
     "text": [
      "[4, 8, 15, 16, 23, 42]\n"
     ]
    }
   ],
   "source": [
    "series = [4,8,15,16,23,42]\n",
    "print(series)"
   ]
  },
  {
   "cell_type": "markdown",
   "id": "b80b1435",
   "metadata": {},
   "source": [
    "### Q.2 ) Create a variable of list type containing 10 elements in it, and apply pandas.Series funtion on the variable print it."
   ]
  },
  {
   "cell_type": "code",
   "execution_count": 3,
   "id": "024e92b0",
   "metadata": {},
   "outputs": [
    {
     "name": "stdout",
     "output_type": "stream",
     "text": [
      "0          a\n",
      "1         23\n",
      "2         34\n",
      "3         56\n",
      "4        cdf\n",
      "5          e\n",
      "6    123.456\n",
      "7      34.54\n",
      "8         gh\n",
      "9        456\n",
      "dtype: object\n"
     ]
    }
   ],
   "source": [
    "listVar = ['a',23,'34',56,'cdf','e',123.456, '34.54','gh',456]\n",
    "pd_series = pd.Series(listVar)\n",
    "print(pd_series)"
   ]
  },
  {
   "cell_type": "markdown",
   "id": "06036eb4",
   "metadata": {},
   "source": [
    "### Q.3 ) Create a  Pandas Dataframe that contains the table and print the data"
   ]
  },
  {
   "cell_type": "code",
   "execution_count": 4,
   "id": "5a917d05",
   "metadata": {},
   "outputs": [
    {
     "name": "stdout",
     "output_type": "stream",
     "text": [
      "     Name  Age  Gender\n",
      "0   Alice   25  Female\n",
      "1     Bob   30    Male\n",
      "2  Claire   27  Female\n"
     ]
    }
   ],
   "source": [
    "dataFrame = {'Name':['Alice','Bob','Claire'],'Age':[25,30,27], 'Gender':['Female','Male','Female']}\n",
    "df = pd.DataFrame(dataFrame)\n",
    "print(df)"
   ]
  },
  {
   "cell_type": "markdown",
   "id": "59203cc7",
   "metadata": {},
   "source": [
    "### Q.4 ) What is 'DataFrame' in pandas and how is it different from pandas.Series? Explain with examples."
   ]
  },
  {
   "cell_type": "raw",
   "id": "d637b728",
   "metadata": {},
   "source": [
    "Ans:- Pandas Data frame is a two-dimensional tabular data structure in which datas are stored in a row and coloumn form. Generally the columns have labels and the datas are being stored row wise indices. It can be visualized as a csv file in real.\n",
    "The individual columns can be said as the pandas series. Pandas Series is a one-dimensional labeled array that can hold data of any of the data types.\n",
    "Here one example will be the above tabular form in question no. 3 is a dataframe where as the data structure in question no 2 is a series."
   ]
  },
  {
   "cell_type": "code",
   "execution_count": 5,
   "id": "bcba76c1",
   "metadata": {},
   "outputs": [
    {
     "name": "stdout",
     "output_type": "stream",
     "text": [
      "This is one example of dataframe\n",
      "     Name  Age  Gender\n",
      "0   Alice   25  Female\n",
      "1     Bob   30    Male\n",
      "2  Claire   27  Female\n",
      "\n",
      "This is one example of series\n",
      "0          a\n",
      "1         23\n",
      "2         34\n",
      "3         56\n",
      "4        cdf\n",
      "5          e\n",
      "6    123.456\n",
      "7      34.54\n",
      "8         gh\n",
      "9        456\n",
      "dtype: object\n"
     ]
    }
   ],
   "source": [
    "print(\"This is one example of dataframe\")\n",
    "print(df)\n",
    "print(\"\\nThis is one example of series\")\n",
    "print(pd_series)"
   ]
  },
  {
   "cell_type": "markdown",
   "id": "8d75ba61",
   "metadata": {},
   "source": [
    "### Q. 5 ) Some common functions in pandas... and examples"
   ]
  },
  {
   "cell_type": "raw",
   "id": "241534f5",
   "metadata": {},
   "source": [
    "Function1: .read_csv()\n",
    "--> It is used to read csv files into a pandas data frame.\n",
    "\n",
    "Function2: .head()\n",
    "--> It is used to return the first n rows of a dataset and if n not given then by default 5.\n",
    "\n",
    "Function3: .tail()\n",
    "--> It returns last n (default 5) rows of the dataset\n",
    "\n",
    "Function4: .dtypes\n",
    "--> Returns the data types of each labels present in the top of the columns in the data set.\n",
    "\n",
    "Function5: .columns\n",
    "--> Returns the labels in the columns, i.e. the top row of each column if not specified."
   ]
  },
  {
   "cell_type": "code",
   "execution_count": 6,
   "id": "63943b5c",
   "metadata": {},
   "outputs": [
    {
     "name": "stdout",
     "output_type": "stream",
     "text": [
      "Index(['Name', 'Age', 'Gender'], dtype='object')\n",
      "\n",
      "\n",
      "     Name  Age  Gender\n",
      "0   Alice   25  Female\n",
      "1     Bob   30    Male\n",
      "2  Claire   27  Female\n"
     ]
    }
   ],
   "source": [
    "##Here is the example of some of the functions\n",
    "print(df.columns)\n",
    "print(\"\\n\")\n",
    "print(df.head())"
   ]
  },
  {
   "cell_type": "markdown",
   "id": "d7bf11b7",
   "metadata": {},
   "source": [
    "### Q. 6) Which is mutable in nature, series, Dataframe or panel?"
   ]
  },
  {
   "cell_type": "raw",
   "id": "b22ed6ef",
   "metadata": {},
   "source": [
    "Answer: \n",
    "Dataframe and Panel are mutable data structure where as series is immutable."
   ]
  },
  {
   "cell_type": "markdown",
   "id": "1750adc2",
   "metadata": {},
   "source": [
    "### Q.7 ) Create a dataframe using multiple series. Explain with an example."
   ]
  },
  {
   "cell_type": "code",
   "execution_count": 7,
   "id": "00579fb0",
   "metadata": {},
   "outputs": [
    {
     "data": {
      "text/html": [
       "<div>\n",
       "<style scoped>\n",
       "    .dataframe tbody tr th:only-of-type {\n",
       "        vertical-align: middle;\n",
       "    }\n",
       "\n",
       "    .dataframe tbody tr th {\n",
       "        vertical-align: top;\n",
       "    }\n",
       "\n",
       "    .dataframe thead th {\n",
       "        text-align: right;\n",
       "    }\n",
       "</style>\n",
       "<table border=\"1\" class=\"dataframe\">\n",
       "  <thead>\n",
       "    <tr style=\"text-align: right;\">\n",
       "      <th></th>\n",
       "      <th>Names</th>\n",
       "      <th>Age</th>\n",
       "      <th>Salary</th>\n",
       "    </tr>\n",
       "  </thead>\n",
       "  <tbody>\n",
       "    <tr>\n",
       "      <th>0</th>\n",
       "      <td>Ravi</td>\n",
       "      <td>12</td>\n",
       "      <td>50,456</td>\n",
       "    </tr>\n",
       "    <tr>\n",
       "      <th>1</th>\n",
       "      <td>Sam</td>\n",
       "      <td>13</td>\n",
       "      <td>59,345</td>\n",
       "    </tr>\n",
       "    <tr>\n",
       "      <th>2</th>\n",
       "      <td>Abhi</td>\n",
       "      <td>45</td>\n",
       "      <td>45,000</td>\n",
       "    </tr>\n",
       "    <tr>\n",
       "      <th>3</th>\n",
       "      <td>Lopa</td>\n",
       "      <td>6</td>\n",
       "      <td>34,000</td>\n",
       "    </tr>\n",
       "    <tr>\n",
       "      <th>4</th>\n",
       "      <td>Roma</td>\n",
       "      <td>7</td>\n",
       "      <td>78,000</td>\n",
       "    </tr>\n",
       "  </tbody>\n",
       "</table>\n",
       "</div>"
      ],
      "text/plain": [
       "  Names  Age  Salary\n",
       "0  Ravi   12  50,456\n",
       "1   Sam   13  59,345\n",
       "2  Abhi   45  45,000\n",
       "3  Lopa    6  34,000\n",
       "4  Roma    7  78,000"
      ]
     },
     "execution_count": 7,
     "metadata": {},
     "output_type": "execute_result"
    }
   ],
   "source": [
    "list_one = ['Ravi','Sam','Abhi','Lopa','Roma']\n",
    "s_one = pd.Series(list_one)\n",
    "list_two = [12,13,45,6,7]\n",
    "s_two = pd.Series(list_two)\n",
    "list_three = ['50,456','59,345','45,000','34,000','78,000']\n",
    "s_three = pd.Series(list_three)\n",
    "s_one.name = 'Names'\n",
    "s_two.name = 'Age'\n",
    "s_three.name = 'Salary'\n",
    "pd.concat([s_one,s_two,s_three],axis =1)"
   ]
  },
  {
   "cell_type": "markdown",
   "id": "6d34bcb8",
   "metadata": {},
   "source": [
    "# -----------------OOOOOOOOOO------------------ #"
   ]
  }
 ],
 "metadata": {
  "kernelspec": {
   "display_name": "Python 3 (ipykernel)",
   "language": "python",
   "name": "python3"
  },
  "language_info": {
   "codemirror_mode": {
    "name": "ipython",
    "version": 3
   },
   "file_extension": ".py",
   "mimetype": "text/x-python",
   "name": "python",
   "nbconvert_exporter": "python",
   "pygments_lexer": "ipython3",
   "version": "3.9.13"
  }
 },
 "nbformat": 4,
 "nbformat_minor": 5
}
